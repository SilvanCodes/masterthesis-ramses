{
 "cells": [
  {
   "cell_type": "code",
   "execution_count": 2,
   "id": "24607008-6a44-4b1f-95f5-c50d7a97e9a8",
   "metadata": {},
   "outputs": [],
   "source": [
    "import numpy as np\n",
    "import pandas as pd\n",
    "import matplotlib as plt"
   ]
  },
  {
   "cell_type": "code",
   "execution_count": 3,
   "id": "db3645f6-506b-452d-9f2b-45f4bf111feb",
   "metadata": {},
   "outputs": [],
   "source": [
    "# df = pd.read_parquet(\"output/compute_statistics_over_chromosome/gonzalobenegas/gpn-brassicales/GCF_000001735.4/NC_003076.8/statistics_over_chromosome.parquet\")\n",
    "df = pd.read_parquet(\"output/compute_distribution_shift_over_chromosome/gonzalobenegas/gpn-brassicales/GCF_000001735.4/NC_003076.8/distribution_shift_over_chromosome.parquet\")\n"
   ]
  },
  {
   "cell_type": "code",
   "execution_count": 4,
   "id": "108154d3-729a-4143-850d-6fdb6f25896e",
   "metadata": {},
   "outputs": [
    {
     "data": {
      "text/html": [
       "<div>\n",
       "<style scoped>\n",
       "    .dataframe tbody tr th:only-of-type {\n",
       "        vertical-align: middle;\n",
       "    }\n",
       "\n",
       "    .dataframe tbody tr th {\n",
       "        vertical-align: top;\n",
       "    }\n",
       "\n",
       "    .dataframe thead th {\n",
       "        text-align: right;\n",
       "    }\n",
       "</style>\n",
       "<table border=\"1\" class=\"dataframe\">\n",
       "  <thead>\n",
       "    <tr style=\"text-align: right;\">\n",
       "      <th></th>\n",
       "      <th>position</th>\n",
       "      <th>threshold_steps</th>\n",
       "      <th>feature</th>\n",
       "    </tr>\n",
       "  </thead>\n",
       "  <tbody>\n",
       "    <tr>\n",
       "      <th>0</th>\n",
       "      <td>22845526</td>\n",
       "      <td>460</td>\n",
       "      <td>region</td>\n",
       "    </tr>\n",
       "    <tr>\n",
       "      <th>1</th>\n",
       "      <td>3795067</td>\n",
       "      <td>210</td>\n",
       "      <td>intron</td>\n",
       "    </tr>\n",
       "    <tr>\n",
       "      <th>2</th>\n",
       "      <td>10701971</td>\n",
       "      <td>50</td>\n",
       "      <td>region</td>\n",
       "    </tr>\n",
       "    <tr>\n",
       "      <th>3</th>\n",
       "      <td>18897791</td>\n",
       "      <td>470</td>\n",
       "      <td>CDS</td>\n",
       "    </tr>\n",
       "    <tr>\n",
       "      <th>4</th>\n",
       "      <td>21303223</td>\n",
       "      <td>160</td>\n",
       "      <td>region</td>\n",
       "    </tr>\n",
       "    <tr>\n",
       "      <th>...</th>\n",
       "      <td>...</td>\n",
       "      <td>...</td>\n",
       "      <td>...</td>\n",
       "    </tr>\n",
       "    <tr>\n",
       "      <th>9995</th>\n",
       "      <td>17334090</td>\n",
       "      <td>260</td>\n",
       "      <td>region</td>\n",
       "    </tr>\n",
       "    <tr>\n",
       "      <th>9996</th>\n",
       "      <td>3534271</td>\n",
       "      <td>220</td>\n",
       "      <td>intron</td>\n",
       "    </tr>\n",
       "    <tr>\n",
       "      <th>9997</th>\n",
       "      <td>145863</td>\n",
       "      <td>320</td>\n",
       "      <td>exon</td>\n",
       "    </tr>\n",
       "    <tr>\n",
       "      <th>9998</th>\n",
       "      <td>16372906</td>\n",
       "      <td>130</td>\n",
       "      <td>region</td>\n",
       "    </tr>\n",
       "    <tr>\n",
       "      <th>9999</th>\n",
       "      <td>15148501</td>\n",
       "      <td>450</td>\n",
       "      <td>region</td>\n",
       "    </tr>\n",
       "  </tbody>\n",
       "</table>\n",
       "<p>10000 rows × 3 columns</p>\n",
       "</div>"
      ],
      "text/plain": [
       "      position  threshold_steps feature\n",
       "0     22845526              460  region\n",
       "1      3795067              210  intron\n",
       "2     10701971               50  region\n",
       "3     18897791              470     CDS\n",
       "4     21303223              160  region\n",
       "...        ...              ...     ...\n",
       "9995  17334090              260  region\n",
       "9996   3534271              220  intron\n",
       "9997    145863              320    exon\n",
       "9998  16372906              130  region\n",
       "9999  15148501              450  region\n",
       "\n",
       "[10000 rows x 3 columns]"
      ]
     },
     "execution_count": 4,
     "metadata": {},
     "output_type": "execute_result"
    }
   ],
   "source": [
    "df"
   ]
  },
  {
   "cell_type": "code",
   "execution_count": 5,
   "id": "9b8a21f0-c1d6-4aee-b2bf-7ed65e89aa14",
   "metadata": {},
   "outputs": [],
   "source": [
    "df[\"row\"] = df.groupby(\"feature\").cumcount()"
   ]
  },
  {
   "cell_type": "code",
   "execution_count": 6,
   "id": "fbd1d8d0-cdbe-456e-9c43-5753a543f0a3",
   "metadata": {},
   "outputs": [],
   "source": [
    "wide = (\n",
    "    df.pivot(index=\"row\", columns=\"feature\", values=\"threshold_steps\")\n",
    "      .sort_index(axis=1)          # optional: sort columns alphabetically\n",
    ")"
   ]
  },
  {
   "cell_type": "code",
   "execution_count": 7,
   "id": "c34fb050-58dc-45c6-b0bd-f69478285930",
   "metadata": {},
   "outputs": [
    {
     "data": {
      "text/html": [
       "<div>\n",
       "<style scoped>\n",
       "    .dataframe tbody tr th:only-of-type {\n",
       "        vertical-align: middle;\n",
       "    }\n",
       "\n",
       "    .dataframe tbody tr th {\n",
       "        vertical-align: top;\n",
       "    }\n",
       "\n",
       "    .dataframe thead th {\n",
       "        text-align: right;\n",
       "    }\n",
       "</style>\n",
       "<table border=\"1\" class=\"dataframe\">\n",
       "  <thead>\n",
       "    <tr style=\"text-align: right;\">\n",
       "      <th>feature</th>\n",
       "      <th>CDS</th>\n",
       "      <th>exon</th>\n",
       "      <th>gene</th>\n",
       "      <th>intron</th>\n",
       "      <th>mRNA</th>\n",
       "      <th>miRNA</th>\n",
       "      <th>pseudogene</th>\n",
       "      <th>region</th>\n",
       "      <th>sequence_feature</th>\n",
       "      <th>transcript</th>\n",
       "    </tr>\n",
       "    <tr>\n",
       "      <th>row</th>\n",
       "      <th></th>\n",
       "      <th></th>\n",
       "      <th></th>\n",
       "      <th></th>\n",
       "      <th></th>\n",
       "      <th></th>\n",
       "      <th></th>\n",
       "      <th></th>\n",
       "      <th></th>\n",
       "      <th></th>\n",
       "    </tr>\n",
       "  </thead>\n",
       "  <tbody>\n",
       "    <tr>\n",
       "      <th>0</th>\n",
       "      <td>470.0</td>\n",
       "      <td>180.0</td>\n",
       "      <td>240.0</td>\n",
       "      <td>210.0</td>\n",
       "      <td>180.0</td>\n",
       "      <td>370.0</td>\n",
       "      <td>70.0</td>\n",
       "      <td>460.0</td>\n",
       "      <td>180.0</td>\n",
       "      <td>140.0</td>\n",
       "    </tr>\n",
       "    <tr>\n",
       "      <th>1</th>\n",
       "      <td>260.0</td>\n",
       "      <td>350.0</td>\n",
       "      <td>340.0</td>\n",
       "      <td>250.0</td>\n",
       "      <td>320.0</td>\n",
       "      <td>NaN</td>\n",
       "      <td>350.0</td>\n",
       "      <td>50.0</td>\n",
       "      <td>NaN</td>\n",
       "      <td>NaN</td>\n",
       "    </tr>\n",
       "    <tr>\n",
       "      <th>2</th>\n",
       "      <td>370.0</td>\n",
       "      <td>280.0</td>\n",
       "      <td>150.0</td>\n",
       "      <td>220.0</td>\n",
       "      <td>290.0</td>\n",
       "      <td>NaN</td>\n",
       "      <td>540.0</td>\n",
       "      <td>160.0</td>\n",
       "      <td>NaN</td>\n",
       "      <td>NaN</td>\n",
       "    </tr>\n",
       "    <tr>\n",
       "      <th>3</th>\n",
       "      <td>320.0</td>\n",
       "      <td>240.0</td>\n",
       "      <td>270.0</td>\n",
       "      <td>290.0</td>\n",
       "      <td>290.0</td>\n",
       "      <td>NaN</td>\n",
       "      <td>180.0</td>\n",
       "      <td>40.0</td>\n",
       "      <td>NaN</td>\n",
       "      <td>NaN</td>\n",
       "    </tr>\n",
       "    <tr>\n",
       "      <th>4</th>\n",
       "      <td>270.0</td>\n",
       "      <td>390.0</td>\n",
       "      <td>230.0</td>\n",
       "      <td>100.0</td>\n",
       "      <td>280.0</td>\n",
       "      <td>NaN</td>\n",
       "      <td>400.0</td>\n",
       "      <td>200.0</td>\n",
       "      <td>NaN</td>\n",
       "      <td>NaN</td>\n",
       "    </tr>\n",
       "    <tr>\n",
       "      <th>...</th>\n",
       "      <td>...</td>\n",
       "      <td>...</td>\n",
       "      <td>...</td>\n",
       "      <td>...</td>\n",
       "      <td>...</td>\n",
       "      <td>...</td>\n",
       "      <td>...</td>\n",
       "      <td>...</td>\n",
       "      <td>...</td>\n",
       "      <td>...</td>\n",
       "    </tr>\n",
       "    <tr>\n",
       "      <th>3602</th>\n",
       "      <td>NaN</td>\n",
       "      <td>NaN</td>\n",
       "      <td>NaN</td>\n",
       "      <td>NaN</td>\n",
       "      <td>NaN</td>\n",
       "      <td>NaN</td>\n",
       "      <td>NaN</td>\n",
       "      <td>110.0</td>\n",
       "      <td>NaN</td>\n",
       "      <td>NaN</td>\n",
       "    </tr>\n",
       "    <tr>\n",
       "      <th>3603</th>\n",
       "      <td>NaN</td>\n",
       "      <td>NaN</td>\n",
       "      <td>NaN</td>\n",
       "      <td>NaN</td>\n",
       "      <td>NaN</td>\n",
       "      <td>NaN</td>\n",
       "      <td>NaN</td>\n",
       "      <td>270.0</td>\n",
       "      <td>NaN</td>\n",
       "      <td>NaN</td>\n",
       "    </tr>\n",
       "    <tr>\n",
       "      <th>3604</th>\n",
       "      <td>NaN</td>\n",
       "      <td>NaN</td>\n",
       "      <td>NaN</td>\n",
       "      <td>NaN</td>\n",
       "      <td>NaN</td>\n",
       "      <td>NaN</td>\n",
       "      <td>NaN</td>\n",
       "      <td>260.0</td>\n",
       "      <td>NaN</td>\n",
       "      <td>NaN</td>\n",
       "    </tr>\n",
       "    <tr>\n",
       "      <th>3605</th>\n",
       "      <td>NaN</td>\n",
       "      <td>NaN</td>\n",
       "      <td>NaN</td>\n",
       "      <td>NaN</td>\n",
       "      <td>NaN</td>\n",
       "      <td>NaN</td>\n",
       "      <td>NaN</td>\n",
       "      <td>130.0</td>\n",
       "      <td>NaN</td>\n",
       "      <td>NaN</td>\n",
       "    </tr>\n",
       "    <tr>\n",
       "      <th>3606</th>\n",
       "      <td>NaN</td>\n",
       "      <td>NaN</td>\n",
       "      <td>NaN</td>\n",
       "      <td>NaN</td>\n",
       "      <td>NaN</td>\n",
       "      <td>NaN</td>\n",
       "      <td>NaN</td>\n",
       "      <td>450.0</td>\n",
       "      <td>NaN</td>\n",
       "      <td>NaN</td>\n",
       "    </tr>\n",
       "  </tbody>\n",
       "</table>\n",
       "<p>3607 rows × 10 columns</p>\n",
       "</div>"
      ],
      "text/plain": [
       "feature    CDS   exon   gene  intron   mRNA  miRNA  pseudogene  region  \\\n",
       "row                                                                      \n",
       "0        470.0  180.0  240.0   210.0  180.0  370.0        70.0   460.0   \n",
       "1        260.0  350.0  340.0   250.0  320.0    NaN       350.0    50.0   \n",
       "2        370.0  280.0  150.0   220.0  290.0    NaN       540.0   160.0   \n",
       "3        320.0  240.0  270.0   290.0  290.0    NaN       180.0    40.0   \n",
       "4        270.0  390.0  230.0   100.0  280.0    NaN       400.0   200.0   \n",
       "...        ...    ...    ...     ...    ...    ...         ...     ...   \n",
       "3602       NaN    NaN    NaN     NaN    NaN    NaN         NaN   110.0   \n",
       "3603       NaN    NaN    NaN     NaN    NaN    NaN         NaN   270.0   \n",
       "3604       NaN    NaN    NaN     NaN    NaN    NaN         NaN   260.0   \n",
       "3605       NaN    NaN    NaN     NaN    NaN    NaN         NaN   130.0   \n",
       "3606       NaN    NaN    NaN     NaN    NaN    NaN         NaN   450.0   \n",
       "\n",
       "feature  sequence_feature  transcript  \n",
       "row                                    \n",
       "0                   180.0       140.0  \n",
       "1                     NaN         NaN  \n",
       "2                     NaN         NaN  \n",
       "3                     NaN         NaN  \n",
       "4                     NaN         NaN  \n",
       "...                   ...         ...  \n",
       "3602                  NaN         NaN  \n",
       "3603                  NaN         NaN  \n",
       "3604                  NaN         NaN  \n",
       "3605                  NaN         NaN  \n",
       "3606                  NaN         NaN  \n",
       "\n",
       "[3607 rows x 10 columns]"
      ]
     },
     "execution_count": 7,
     "metadata": {},
     "output_type": "execute_result"
    }
   ],
   "source": [
    "wide"
   ]
  },
  {
   "cell_type": "code",
   "execution_count": 8,
   "id": "dc051c30-56c0-40aa-aa1f-93d370cad7b7",
   "metadata": {},
   "outputs": [],
   "source": [
    "# keep only populations with N >= 100\n",
    "wide = wide.loc[:, wide.count() >= 100]"
   ]
  },
  {
   "cell_type": "code",
   "execution_count": 9,
   "id": "cf825e7f-1851-4603-9a4a-24f20994416d",
   "metadata": {},
   "outputs": [
    {
     "data": {
      "text/html": [
       "<div>\n",
       "<style scoped>\n",
       "    .dataframe tbody tr th:only-of-type {\n",
       "        vertical-align: middle;\n",
       "    }\n",
       "\n",
       "    .dataframe tbody tr th {\n",
       "        vertical-align: top;\n",
       "    }\n",
       "\n",
       "    .dataframe thead th {\n",
       "        text-align: right;\n",
       "    }\n",
       "</style>\n",
       "<table border=\"1\" class=\"dataframe\">\n",
       "  <thead>\n",
       "    <tr style=\"text-align: right;\">\n",
       "      <th>feature</th>\n",
       "      <th>CDS</th>\n",
       "      <th>exon</th>\n",
       "      <th>gene</th>\n",
       "      <th>intron</th>\n",
       "      <th>pseudogene</th>\n",
       "      <th>region</th>\n",
       "    </tr>\n",
       "    <tr>\n",
       "      <th>row</th>\n",
       "      <th></th>\n",
       "      <th></th>\n",
       "      <th></th>\n",
       "      <th></th>\n",
       "      <th></th>\n",
       "      <th></th>\n",
       "    </tr>\n",
       "  </thead>\n",
       "  <tbody>\n",
       "    <tr>\n",
       "      <th>0</th>\n",
       "      <td>470.0</td>\n",
       "      <td>180.0</td>\n",
       "      <td>240.0</td>\n",
       "      <td>210.0</td>\n",
       "      <td>70.0</td>\n",
       "      <td>460.0</td>\n",
       "    </tr>\n",
       "    <tr>\n",
       "      <th>1</th>\n",
       "      <td>260.0</td>\n",
       "      <td>350.0</td>\n",
       "      <td>340.0</td>\n",
       "      <td>250.0</td>\n",
       "      <td>350.0</td>\n",
       "      <td>50.0</td>\n",
       "    </tr>\n",
       "    <tr>\n",
       "      <th>2</th>\n",
       "      <td>370.0</td>\n",
       "      <td>280.0</td>\n",
       "      <td>150.0</td>\n",
       "      <td>220.0</td>\n",
       "      <td>540.0</td>\n",
       "      <td>160.0</td>\n",
       "    </tr>\n",
       "    <tr>\n",
       "      <th>3</th>\n",
       "      <td>320.0</td>\n",
       "      <td>240.0</td>\n",
       "      <td>270.0</td>\n",
       "      <td>290.0</td>\n",
       "      <td>180.0</td>\n",
       "      <td>40.0</td>\n",
       "    </tr>\n",
       "    <tr>\n",
       "      <th>4</th>\n",
       "      <td>270.0</td>\n",
       "      <td>390.0</td>\n",
       "      <td>230.0</td>\n",
       "      <td>100.0</td>\n",
       "      <td>400.0</td>\n",
       "      <td>200.0</td>\n",
       "    </tr>\n",
       "    <tr>\n",
       "      <th>...</th>\n",
       "      <td>...</td>\n",
       "      <td>...</td>\n",
       "      <td>...</td>\n",
       "      <td>...</td>\n",
       "      <td>...</td>\n",
       "      <td>...</td>\n",
       "    </tr>\n",
       "    <tr>\n",
       "      <th>3602</th>\n",
       "      <td>NaN</td>\n",
       "      <td>NaN</td>\n",
       "      <td>NaN</td>\n",
       "      <td>NaN</td>\n",
       "      <td>NaN</td>\n",
       "      <td>110.0</td>\n",
       "    </tr>\n",
       "    <tr>\n",
       "      <th>3603</th>\n",
       "      <td>NaN</td>\n",
       "      <td>NaN</td>\n",
       "      <td>NaN</td>\n",
       "      <td>NaN</td>\n",
       "      <td>NaN</td>\n",
       "      <td>270.0</td>\n",
       "    </tr>\n",
       "    <tr>\n",
       "      <th>3604</th>\n",
       "      <td>NaN</td>\n",
       "      <td>NaN</td>\n",
       "      <td>NaN</td>\n",
       "      <td>NaN</td>\n",
       "      <td>NaN</td>\n",
       "      <td>260.0</td>\n",
       "    </tr>\n",
       "    <tr>\n",
       "      <th>3605</th>\n",
       "      <td>NaN</td>\n",
       "      <td>NaN</td>\n",
       "      <td>NaN</td>\n",
       "      <td>NaN</td>\n",
       "      <td>NaN</td>\n",
       "      <td>130.0</td>\n",
       "    </tr>\n",
       "    <tr>\n",
       "      <th>3606</th>\n",
       "      <td>NaN</td>\n",
       "      <td>NaN</td>\n",
       "      <td>NaN</td>\n",
       "      <td>NaN</td>\n",
       "      <td>NaN</td>\n",
       "      <td>450.0</td>\n",
       "    </tr>\n",
       "  </tbody>\n",
       "</table>\n",
       "<p>3607 rows × 6 columns</p>\n",
       "</div>"
      ],
      "text/plain": [
       "feature    CDS   exon   gene  intron  pseudogene  region\n",
       "row                                                     \n",
       "0        470.0  180.0  240.0   210.0        70.0   460.0\n",
       "1        260.0  350.0  340.0   250.0       350.0    50.0\n",
       "2        370.0  280.0  150.0   220.0       540.0   160.0\n",
       "3        320.0  240.0  270.0   290.0       180.0    40.0\n",
       "4        270.0  390.0  230.0   100.0       400.0   200.0\n",
       "...        ...    ...    ...     ...         ...     ...\n",
       "3602       NaN    NaN    NaN     NaN         NaN   110.0\n",
       "3603       NaN    NaN    NaN     NaN         NaN   270.0\n",
       "3604       NaN    NaN    NaN     NaN         NaN   260.0\n",
       "3605       NaN    NaN    NaN     NaN         NaN   130.0\n",
       "3606       NaN    NaN    NaN     NaN         NaN   450.0\n",
       "\n",
       "[3607 rows x 6 columns]"
      ]
     },
     "execution_count": 9,
     "metadata": {},
     "output_type": "execute_result"
    }
   ],
   "source": [
    "wide"
   ]
  },
  {
   "cell_type": "code",
   "execution_count": 10,
   "id": "311d26f4-c1b3-4f7e-8d5a-9315c47c2eb5",
   "metadata": {},
   "outputs": [
    {
     "name": "stdout",
     "output_type": "stream",
     "text": [
      "checking CDS\n",
      "Shapiro - Wilk test for CDS: statistic=0.9901417134078753, p - value=7.138354224420246e-08\n",
      "checking exon\n",
      "Shapiro - Wilk test for exon: statistic=0.9905649072383853, p - value=4.8613808294285357e-11\n",
      "checking gene\n",
      "Shapiro - Wilk test for gene: statistic=0.9840073468299668, p - value=0.0048288176086105404\n",
      "checking intron\n",
      "Shapiro - Wilk test for intron: statistic=0.9614292976335532, p - value=2.408395555733587e-21\n",
      "checking pseudogene\n",
      "Shapiro - Wilk test for pseudogene: statistic=0.9731526083014437, p - value=3.325226472997479e-10\n",
      "checking region\n",
      "Shapiro - Wilk test for region: statistic=0.9597978985986565, p - value=1.6520063897791486e-30\n"
     ]
    }
   ],
   "source": [
    "from scipy.stats import shapiro\n",
    "\n",
    "for col in wide.columns:\n",
    "    print(f\"checking {col}\")\n",
    "    # Check normality\n",
    "    stat, p = shapiro(wide[col].values, nan_policy=\"omit\")\n",
    "    print(f\"Shapiro - Wilk test for {col}: statistic={stat}, p - value={p}\")"
   ]
  },
  {
   "cell_type": "code",
   "execution_count": 11,
   "id": "54bcc89e-c328-4498-839f-152a67c2524c",
   "metadata": {},
   "outputs": [
    {
     "name": "stdout",
     "output_type": "stream",
     "text": [
      "checking CDS\n",
      "AndersonResult(statistic=nan, critical_values=array([0.575, 0.655, 0.786, 0.917, 1.091]), significance_level=array([15. , 10. ,  5. ,  2.5,  1. ]), fit_result=  params: FitParams(loc=nan, scale=nan)\n",
      " success: False\n",
      " message: 'Optimization converged to parameter values that are inconsistent with the data.')\n",
      "checking exon\n",
      "AndersonResult(statistic=nan, critical_values=array([0.575, 0.655, 0.786, 0.917, 1.091]), significance_level=array([15. , 10. ,  5. ,  2.5,  1. ]), fit_result=  params: FitParams(loc=nan, scale=nan)\n",
      " success: False\n",
      " message: 'Optimization converged to parameter values that are inconsistent with the data.')\n",
      "checking gene\n",
      "AndersonResult(statistic=nan, critical_values=array([0.575, 0.655, 0.786, 0.917, 1.091]), significance_level=array([15. , 10. ,  5. ,  2.5,  1. ]), fit_result=  params: FitParams(loc=nan, scale=nan)\n",
      " success: False\n",
      " message: 'Optimization converged to parameter values that are inconsistent with the data.')\n",
      "checking intron\n",
      "AndersonResult(statistic=nan, critical_values=array([0.575, 0.655, 0.786, 0.917, 1.091]), significance_level=array([15. , 10. ,  5. ,  2.5,  1. ]), fit_result=  params: FitParams(loc=nan, scale=nan)\n",
      " success: False\n",
      " message: 'Optimization converged to parameter values that are inconsistent with the data.')\n",
      "checking pseudogene\n",
      "AndersonResult(statistic=nan, critical_values=array([0.575, 0.655, 0.786, 0.917, 1.091]), significance_level=array([15. , 10. ,  5. ,  2.5,  1. ]), fit_result=  params: FitParams(loc=nan, scale=nan)\n",
      " success: False\n",
      " message: 'Optimization converged to parameter values that are inconsistent with the data.')\n",
      "checking region\n",
      "AndersonResult(statistic=34.90761139229562, critical_values=array([0.575, 0.655, 0.786, 0.917, 1.091]), significance_level=array([15. , 10. ,  5. ,  2.5,  1. ]), fit_result=  params: FitParams(loc=240.29387302467424, scale=113.11341484801189)\n",
      " success: True\n",
      " message: '`anderson` successfully fit the distribution to the data.')\n"
     ]
    }
   ],
   "source": [
    "from scipy.stats import anderson\n",
    "\n",
    "# anderson(wide[\"CDS\"].values)\n",
    "\n",
    "\n",
    "for col in wide.columns:\n",
    "    print(f\"checking {col}\")\n",
    "    print(anderson(wide[col].values))"
   ]
  },
  {
   "cell_type": "code",
   "execution_count": 12,
   "id": "c2104d4b-02da-46bc-a7c5-d83da19a9ee6",
   "metadata": {},
   "outputs": [
    {
     "data": {
      "text/plain": [
       "<Axes: ylabel='Frequency'>"
      ]
     },
     "execution_count": 12,
     "metadata": {},
     "output_type": "execute_result"
    },
    {
     "data": {
      "image/png": "[encoded data removed]",
      "text/plain": [
       "<Figure size 640x480 with 1 Axes>"
      ]
     },
     "metadata": {},
     "output_type": "display_data"
    }
   ],
   "source": [
    "wide[\"region\"].plot(kind=\"hist\")"
   ]
  },
  {
   "cell_type": "code",
   "execution_count": 21,
   "id": "9a1b01cf-27d9-4616-a4c9-00f9eca66876",
   "metadata": {},
   "outputs": [
    {
     "data": {
      "text/plain": [
       "<Axes: ylabel='Frequency'>"
      ]
     },
     "execution_count": 21,
     "metadata": {},
     "output_type": "execute_result"
    },
    {
     "data": {
      "image/png": "[encoded data removed]",
      "text/plain": [
       "<Figure size 640x480 with 1 Axes>"
      ]
     },
     "metadata": {},
     "output_type": "display_data"
    }
   ],
   "source": [
    "wide[\"pseudogene\"].plot(kind=\"hist\")"
   ]
  },
  {
   "cell_type": "code",
   "execution_count": 22,
   "id": "c19f3a18-4079-426e-8954-11b1138a4802",
   "metadata": {},
   "outputs": [
    {
     "data": {
      "text/plain": [
       "<Axes: ylabel='Frequency'>"
      ]
     },
     "execution_count": 22,
     "metadata": {},
     "output_type": "execute_result"
    },
    {
     "data": {
      "image/png": "[encoded data removed]",
      "text/plain": [
       "<Figure size 640x480 with 1 Axes>"
      ]
     },
     "metadata": {},
     "output_type": "display_data"
    }
   ],
   "source": [
    "wide[\"intron\"].plot(kind=\"hist\")"
   ]
  },
  {
   "cell_type": "code",
   "execution_count": 23,
   "id": "49cda749-0d88-4f98-b2e8-28ee055fe81d",
   "metadata": {},
   "outputs": [
    {
     "data": {
      "text/plain": [
       "<Axes: ylabel='Frequency'>"
      ]
     },
     "execution_count": 23,
     "metadata": {},
     "output_type": "execute_result"
    },
    {
     "data": {
      "image/png": "[encoded data removed]",
      "text/plain": [
       "<Figure size 640x480 with 1 Axes>"
      ]
     },
     "metadata": {},
     "output_type": "display_data"
    }
   ],
   "source": [
    "wide[\"gene\"].plot(kind=\"hist\")"
   ]
  },
  {
   "cell_type": "code",
   "execution_count": 24,
   "id": "c28a5fa2-9276-4207-8bc2-f90780633501",
   "metadata": {},
   "outputs": [
    {
     "data": {
      "text/plain": [
       "<Axes: ylabel='Frequency'>"
      ]
     },
     "execution_count": 24,
     "metadata": {},
     "output_type": "execute_result"
    },
    {
     "data": {
      "image/png": "[encoded data removed]",
      "text/plain": [
       "<Figure size 640x480 with 1 Axes>"
      ]
     },
     "metadata": {},
     "output_type": "display_data"
    }
   ],
   "source": [
    "wide[\"exon\"].plot(kind=\"hist\")"
   ]
  },
  {
   "cell_type": "code",
   "execution_count": 25,
   "id": "59e880bf-5316-4d95-bf7f-7049e52a32b1",
   "metadata": {},
   "outputs": [
    {
     "data": {
      "text/plain": [
       "<Axes: ylabel='Frequency'>"
      ]
     },
     "execution_count": 25,
     "metadata": {},
     "output_type": "execute_result"
    },
    {
     "data": {
      "image/png": "[encoded data removed]",
      "text/plain": [
       "<Figure size 640x480 with 1 Axes>"
      ]
     },
     "metadata": {},
     "output_type": "display_data"
    }
   ],
   "source": [
    "wide[\"CDS\"].plot(kind=\"hist\")"
   ]
  }
 ],
 "metadata": {
  "kernelspec": {
   "display_name": "Python 3 (ipykernel)",
   "language": "python",
   "name": "python3"
  },
  "language_info": {
   "codemirror_mode": {
    "name": "ipython",
    "version": 3
   },
   "file_extension": ".py",
   "mimetype": "text/x-python",
   "name": "python",
   "nbconvert_exporter": "python",
   "pygments_lexer": "ipython3",
   "version": "3.11.11"
  }
 },
 "nbformat": 4,
 "nbformat_minor": 5
}
