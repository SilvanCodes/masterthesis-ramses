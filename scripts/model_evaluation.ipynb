{
 "cells": [
  {
   "cell_type": "code",
   "execution_count": 1,
   "id": "60f85605-2488-49f1-8db7-86b6b3ca1939",
   "metadata": {},
   "outputs": [],
   "source": [
    "from datasets import load_dataset\n",
    "from torch.utils.data import DataLoader\n",
    "import torch\n",
    "from tqdm.auto import tqdm\n",
    "from evaluate import load  # Hugging Face’s metrics hub\n",
    "\n",
    "import gpn.model\n",
    "from transformers import AutoModel, AutoModelForMaskedLM, AutoTokenizer, DataCollatorForLanguageModeling\n",
    "from pathlib import Path\n",
    "import os"
   ]
  },
  {
   "cell_type": "code",
   "execution_count": 2,
   "id": "3e267077-2285-4b1e-b22a-958c2964ff13",
   "metadata": {},
   "outputs": [
    {
     "name": "stdout",
     "output_type": "stream",
     "text": [
      "dilation_schedule=[1, 3, 9, 27, 81, 243, 1, 3, 9, 27, 81, 243, 1, 3, 9, 27, 81, 243]\n"
     ]
    },
    {
     "data": {
      "application/vnd.jupyter.widget-view+json": {
       "model_id": "34abed018f2241518e08d1226b2f84ff",
       "version_major": 2,
       "version_minor": 0
      },
      "text/plain": [
       "shard_00000.jsonl.zst:   0%|          | 0.00/83.8M [00:00<?, ?B/s]"
      ]
     },
     "metadata": {},
     "output_type": "display_data"
    },
    {
     "data": {
      "application/vnd.jupyter.widget-view+json": {
       "model_id": "e3165019d9404785803c339f97ed543f",
       "version_major": 2,
       "version_minor": 0
      },
      "text/plain": [
       "shard_00001.jsonl.zst:   0%|          | 0.00/83.8M [00:00<?, ?B/s]"
      ]
     },
     "metadata": {},
     "output_type": "display_data"
    },
    {
     "data": {
      "application/vnd.jupyter.widget-view+json": {
       "model_id": "a2d9f6b362c2489f9a5e335c1e56134e",
       "version_major": 2,
       "version_minor": 0
      },
      "text/plain": [
       "shard_00002.jsonl.zst:   0%|          | 0.00/83.8M [00:00<?, ?B/s]"
      ]
     },
     "metadata": {},
     "output_type": "display_data"
    },
    {
     "data": {
      "application/vnd.jupyter.widget-view+json": {
       "model_id": "a13bb3ffe8274143b428554f50b9b319",
       "version_major": 2,
       "version_minor": 0
      },
      "text/plain": [
       "shard_00003.jsonl.zst:   0%|          | 0.00/83.8M [00:00<?, ?B/s]"
      ]
     },
     "metadata": {},
     "output_type": "display_data"
    },
    {
     "data": {
      "application/vnd.jupyter.widget-view+json": {
       "model_id": "12862cc7c4554bb2b2898b3932deeb57",
       "version_major": 2,
       "version_minor": 0
      },
      "text/plain": [
       "shard_00004.jsonl.zst:   0%|          | 0.00/83.8M [00:00<?, ?B/s]"
      ]
     },
     "metadata": {},
     "output_type": "display_data"
    },
    {
     "data": {
      "application/vnd.jupyter.widget-view+json": {
       "model_id": "5a0ac9f28aef4528bcf3b4983b53fd90",
       "version_major": 2,
       "version_minor": 0
      },
      "text/plain": [
       "shard_00005.jsonl.zst:   0%|          | 0.00/83.8M [00:00<?, ?B/s]"
      ]
     },
     "metadata": {},
     "output_type": "display_data"
    },
    {
     "data": {
      "application/vnd.jupyter.widget-view+json": {
       "model_id": "802527cfb32e417eaaa88ba8799937dc",
       "version_major": 2,
       "version_minor": 0
      },
      "text/plain": [
       "shard_00006.jsonl.zst:   0%|          | 0.00/83.8M [00:00<?, ?B/s]"
      ]
     },
     "metadata": {},
     "output_type": "display_data"
    },
    {
     "data": {
      "application/vnd.jupyter.widget-view+json": {
       "model_id": "e00a569b463b4d749471084f4c9e7c1f",
       "version_major": 2,
       "version_minor": 0
      },
      "text/plain": [
       "shard_00007.jsonl.zst:   0%|          | 0.00/83.8M [00:00<?, ?B/s]"
      ]
     },
     "metadata": {},
     "output_type": "display_data"
    },
    {
     "data": {
      "application/vnd.jupyter.widget-view+json": {
       "model_id": "9c4056b354784a32ad5b4d5e186f7a4f",
       "version_major": 2,
       "version_minor": 0
      },
      "text/plain": [
       "shard_00008.jsonl.zst:   0%|          | 0.00/83.8M [00:00<?, ?B/s]"
      ]
     },
     "metadata": {},
     "output_type": "display_data"
    },
    {
     "data": {
      "application/vnd.jupyter.widget-view+json": {
       "model_id": "44391bbb9ad146fd860bce5277140ed2",
       "version_major": 2,
       "version_minor": 0
      },
      "text/plain": [
       "shard_00009.jsonl.zst:   0%|          | 0.00/83.8M [00:00<?, ?B/s]"
      ]
     },
     "metadata": {},
     "output_type": "display_data"
    },
    {
     "data": {
      "application/vnd.jupyter.widget-view+json": {
       "model_id": "dbbd0392a9564e2094e6a72abf356f3a",
       "version_major": 2,
       "version_minor": 0
      },
      "text/plain": [
       "shard_00010.jsonl.zst:   0%|          | 0.00/83.7M [00:00<?, ?B/s]"
      ]
     },
     "metadata": {},
     "output_type": "display_data"
    },
    {
     "data": {
      "application/vnd.jupyter.widget-view+json": {
       "model_id": "ab90e9b4a4b74908b848cb9cfcc7594c",
       "version_major": 2,
       "version_minor": 0
      },
      "text/plain": [
       "shard_00011.jsonl.zst:   0%|          | 0.00/83.8M [00:00<?, ?B/s]"
      ]
     },
     "metadata": {},
     "output_type": "display_data"
    },
    {
     "data": {
      "application/vnd.jupyter.widget-view+json": {
       "model_id": "f897431cf59c461382691be22ad4620a",
       "version_major": 2,
       "version_minor": 0
      },
      "text/plain": [
       "shard_00012.jsonl.zst:   0%|          | 0.00/83.8M [00:00<?, ?B/s]"
      ]
     },
     "metadata": {},
     "output_type": "display_data"
    },
    {
     "data": {
      "application/vnd.jupyter.widget-view+json": {
       "model_id": "ee22c12443c84ca6929885c8e5986a1f",
       "version_major": 2,
       "version_minor": 0
      },
      "text/plain": [
       "shard_00013.jsonl.zst:   0%|          | 0.00/83.8M [00:00<?, ?B/s]"
      ]
     },
     "metadata": {},
     "output_type": "display_data"
    },
    {
     "data": {
      "application/vnd.jupyter.widget-view+json": {
       "model_id": "fdd330e3f88540f1b02c30ffc9d04ea8",
       "version_major": 2,
       "version_minor": 0
      },
      "text/plain": [
       "shard_00000.jsonl.zst:   0%|          | 0.00/3.66M [00:00<?, ?B/s]"
      ]
     },
     "metadata": {},
     "output_type": "display_data"
    },
    {
     "data": {
      "application/vnd.jupyter.widget-view+json": {
       "model_id": "2167093325cb4207b4b9f5141ebcb543",
       "version_major": 2,
       "version_minor": 0
      },
      "text/plain": [
       "shard_00000.jsonl.zst:   0%|          | 0.00/8.14M [00:00<?, ?B/s]"
      ]
     },
     "metadata": {},
     "output_type": "display_data"
    },
    {
     "data": {
      "application/vnd.jupyter.widget-view+json": {
       "model_id": "9844d49cedd14f428db43b3ace36c17b",
       "version_major": 2,
       "version_minor": 0
      },
      "text/plain": [
       "Generating train split:   0%|          | 0/1684706 [00:00<?, ? examples/s]"
      ]
     },
     "metadata": {},
     "output_type": "display_data"
    },
    {
     "data": {
      "application/vnd.jupyter.widget-view+json": {
       "model_id": "6f678618fa0249a19b2dbcbea5d4ab63",
       "version_major": 2,
       "version_minor": 0
      },
      "text/plain": [
       "Generating validation split:   0%|          | 0/6551 [00:00<?, ? examples/s]"
      ]
     },
     "metadata": {},
     "output_type": "display_data"
    },
    {
     "data": {
      "application/vnd.jupyter.widget-view+json": {
       "model_id": "0bda50430a304abf9a0c0db96e4a3d4b",
       "version_major": 2,
       "version_minor": 0
      },
      "text/plain": [
       "Generating test split:   0%|          | 0/12612 [00:00<?, ? examples/s]"
      ]
     },
     "metadata": {},
     "output_type": "display_data"
    }
   ],
   "source": [
    "# dataset_name = \"sbuedenb/small_beetle_dataset\"\n",
    "# model_name   = \"sbuedenb/beetle-gpn\" # v1: Top-1 accuracy: 51.8759% (validation) , v2: 53.0181%\n",
    "# model_name   = \"sbuedenb/beetle-gpn-wide\" # Top-1 accuracy: 53.3793% (validation)\n",
    "\n",
    "\n",
    "# model_name   = \"sbuedenb/beetle-gpn-wide-reduced\" # Top-1 accuracy: 51.8314%\n",
    "model_name   = \"/home/sbuedenb/models/long-wide-cosine/\" \n",
    "dataset_name = \"sbuedenb/big_beetle_dataset-2048\"\n",
    "# model_name   = \"songlab/gpn-brassicales\"\n",
    "# (on brassicales) Top-1 accuracy: 53.8563% (validation), Top-1 accuracy: 53.2370% (test)\n",
    "# (on cucujiformia) Top-1 accuracy: 42.8384%\n",
    "\n",
    "# dataset_name = \"songlab/genomes-brassicales-balanced-v1\"\n",
    "\n",
    "\n",
    "tokenizer = AutoTokenizer.from_pretrained(model_name)\n",
    "model     = AutoModelForMaskedLM.from_pretrained(model_name, local_files_only=True).eval()\n",
    "dataset   = load_dataset(dataset_name, split=\"test\")   # or \"validation\""
   ]
  },
  {
   "cell_type": "code",
   "execution_count": 3,
   "id": "6433c893-2a80-4cbb-8de2-ca6d9e5146c0",
   "metadata": {},
   "outputs": [],
   "source": [
    "device = \"cuda\" if torch.cuda.is_available() else \"cpu\"\n",
    "model.to(device);"
   ]
  },
  {
   "cell_type": "markdown",
   "id": "f106fb0b-a6d3-4293-a01a-4f1d0bf8f495",
   "metadata": {},
   "source": [
    "# Top-1 accuracy on sbuedenb/big_beetle_dataset\n",
    "Model | Accuracy (eval) | Accuracy (test)\n",
    "-|-|-\n",
    "songlab/gpn-brassicales| 42.7848% | 42.9517%\n",
    "sbuedenb/beetle-gpn | 51.4824% | 56.0279%\n",
    "sbuedenb/beetle-gpn-wide-reduced | **51.8868%** | **56.2513%**\n",
    "sbuedenb/long-wide-cosine | 52.0072% +- 0.6268% | "
   ]
  },
  {
   "cell_type": "code",
   "execution_count": 4,
   "id": "c325a509-25c5-4745-b5ef-397972653aec",
   "metadata": {},
   "outputs": [
    {
     "data": {
      "application/vnd.jupyter.widget-view+json": {
       "model_id": "014b1fa9223147e699e6aa4e6eddd1a7",
       "version_major": 2,
       "version_minor": 0
      },
      "text/plain": [
       "Map:   0%|          | 0/12612 [00:00<?, ? examples/s]"
      ]
     },
     "metadata": {},
     "output_type": "display_data"
    }
   ],
   "source": [
    "def tokenize_function(batch):\n",
    "    res = tokenizer(\n",
    "        batch[\"seq\"],\n",
    "        return_special_tokens_mask=True,\n",
    "        padding=False,\n",
    "        truncation=False,\n",
    "        return_token_type_ids=False,\n",
    "    )\n",
    "    return res\n",
    "\n",
    "tokenized = dataset.map(tokenize_function, batched=True, remove_columns=[\"seq\", \"assembly\", \"chrom\", \"strand\"])"
   ]
  },
  {
   "cell_type": "code",
   "execution_count": 5,
   "id": "49e582e6-570f-427f-8ed1-40e0f6348211",
   "metadata": {},
   "outputs": [],
   "source": [
    "data_collator = DataCollatorForLanguageModeling(\n",
    "    tokenizer=tokenizer,\n",
    "    mlm=True,\n",
    "    mlm_probability=0.15,   # standard BERT mask-ratio\n",
    "    seed=42,\n",
    ")"
   ]
  },
  {
   "cell_type": "code",
   "execution_count": 6,
   "id": "c84a8ebc-d945-4f9f-b1ad-b7f532c83cb4",
   "metadata": {},
   "outputs": [],
   "source": [
    "loader = DataLoader(\n",
    "    tokenized,\n",
    "    batch_size=256,\n",
    "    shuffle=False,\n",
    "    collate_fn=data_collator,\n",
    ")"
   ]
  },
  {
   "cell_type": "code",
   "execution_count": 7,
   "id": "c215eb9e-190c-4423-a43b-0ace78fe2fac",
   "metadata": {
    "scrolled": true
   },
   "outputs": [
    {
     "data": {
      "application/vnd.jupyter.widget-view+json": {
       "model_id": "8444bcf51207406290924e245ec7c392",
       "version_major": 2,
       "version_minor": 0
      },
      "text/plain": [
       "evaluating:   0%|          | 0/50 [00:00<?, ?it/s]"
      ]
     },
     "metadata": {},
     "output_type": "display_data"
    },
    {
     "name": "stdout",
     "output_type": "stream",
     "text": [
      "Top-1 accuracy: 53.2262%\n"
     ]
    }
   ],
   "source": [
    "accuracy = load(\"accuracy\")\n",
    "\n",
    "for batch in tqdm(loader, desc=\"evaluating\"):\n",
    "    input_ids  = batch[\"input_ids\"].to(device)\n",
    "    labels     = batch[\"labels\"].to(device)         # -100 where no mask\n",
    "\n",
    "    with torch.no_grad():\n",
    "        logits = model(input_ids=input_ids).logits\n",
    "    preds = logits.argmax(dim=-1)\n",
    "\n",
    "    # Select only the masked positions\n",
    "    mask = labels != -100\n",
    "    accuracy.add_batch(        \n",
    "        predictions=preds[mask],\n",
    "        references=labels[mask],\n",
    "    )\n",
    "\n",
    "top1 = accuracy.compute()\n",
    "print(f\"Top-1 accuracy: {top1['accuracy']:.4%}\")"
   ]
  },
  {
   "cell_type": "code",
   "execution_count": 8,
   "id": "2b23e077-72c0-4cd5-9df7-6f6b2c501442",
   "metadata": {},
   "outputs": [
    {
     "data": {
      "text/plain": [
       "{'accuracy': 0.5322624415578514}"
      ]
     },
     "execution_count": 8,
     "metadata": {},
     "output_type": "execute_result"
    }
   ],
   "source": [
    "top1"
   ]
  },
  {
   "cell_type": "code",
   "execution_count": 9,
   "id": "32f37407-0045-4ebb-ba87-844f0fda4ded",
   "metadata": {},
   "outputs": [
    {
     "data": {
      "text/plain": [
       "12612"
      ]
     },
     "execution_count": 9,
     "metadata": {},
     "output_type": "execute_result"
    }
   ],
   "source": [
    "len(dataset)"
   ]
  },
  {
   "cell_type": "code",
   "execution_count": 10,
   "id": "78eeab92-f922-4eb5-a752-402ac2410962",
   "metadata": {},
   "outputs": [],
   "source": [
    "import math\n",
    "\n",
    "# 1.64 (90%)\n",
    "# 1.96 (95%)\n",
    "# 2.33 (98%)\n",
    "# 2.58 (99%)\n",
    "z = 2.58\n",
    "n = len(dataset)\n",
    "acc = top1['accuracy']"
   ]
  },
  {
   "cell_type": "code",
   "execution_count": 11,
   "id": "4f14a3e5-a5ec-42e5-b7c1-f9d2f5f6b365",
   "metadata": {},
   "outputs": [
    {
     "name": "stdout",
     "output_type": "stream",
     "text": [
      "99% confidence interval: 1.1463%\n"
     ]
    }
   ],
   "source": [
    "interval = z * math.sqrt( (acc * (1 - acc)) / n)\n",
    "interval\n",
    "\n",
    "print(f\"99% confidence interval: {interval:.4%}\")"
   ]
  }
 ],
 "metadata": {
  "kernelspec": {
   "display_name": "Python 3 (ipykernel)",
   "language": "python",
   "name": "python3"
  },
  "language_info": {
   "codemirror_mode": {
    "name": "ipython",
    "version": 3
   },
   "file_extension": ".py",
   "mimetype": "text/x-python",
   "name": "python",
   "nbconvert_exporter": "python",
   "pygments_lexer": "ipython3",
   "version": "3.11.11"
  }
 },
 "nbformat": 4,
 "nbformat_minor": 5
}
